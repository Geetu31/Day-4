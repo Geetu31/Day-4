{
 "cells": [
  {
   "cell_type": "code",
   "execution_count": 2,
   "id": "8f57048c",
   "metadata": {},
   "outputs": [
    {
     "name": "stdout",
     "output_type": "stream",
     "text": [
      " Abc Xyz\n"
     ]
    }
   ],
   "source": [
    "firstname = 'abc'\n",
    "\n",
    "lastname = 'xyz'\n",
    "fullname = f\" {firstname} {lastname}\"\n",
    "print(fullname.title())"
   ]
  },
  {
   "cell_type": "code",
   "execution_count": 10,
   "id": "6d4474c2",
   "metadata": {},
   "outputs": [
    {
     "name": "stdout",
     "output_type": "stream",
     "text": [
      "['amit', 'bir', 'cool', 'dolly']\n"
     ]
    }
   ],
   "source": [
    "students =['amit','bir','cool','dolly']#0,1,2,3\n",
    "print(students)"
   ]
  },
  {
   "cell_type": "code",
   "execution_count": 4,
   "id": "875f0d20",
   "metadata": {},
   "outputs": [
    {
     "data": {
      "text/plain": [
       "list"
      ]
     },
     "execution_count": 4,
     "metadata": {},
     "output_type": "execute_result"
    }
   ],
   "source": [
    "type(students)"
   ]
  },
  {
   "cell_type": "code",
   "execution_count": 5,
   "id": "1ce51b7d",
   "metadata": {},
   "outputs": [],
   "source": [
    "#how to access element of a list?"
   ]
  },
  {
   "cell_type": "code",
   "execution_count": 13,
   "id": "6f17968e",
   "metadata": {},
   "outputs": [
    {
     "name": "stdout",
     "output_type": "stream",
     "text": [
      "bir\n"
     ]
    }
   ],
   "source": [
    "print(students[1])"
   ]
  },
  {
   "cell_type": "code",
   "execution_count": 12,
   "id": "1d70bda1",
   "metadata": {},
   "outputs": [
    {
     "name": "stdout",
     "output_type": "stream",
     "text": [
      "Dolly\n"
     ]
    }
   ],
   "source": [
    "print(students[3].title())"
   ]
  },
  {
   "cell_type": "code",
   "execution_count": 11,
   "id": "aca26fac",
   "metadata": {},
   "outputs": [
    {
     "name": "stdout",
     "output_type": "stream",
     "text": [
      "Bir\n"
     ]
    }
   ],
   "source": [
    "print(students[1].title())\n"
   ]
  },
  {
   "cell_type": "code",
   "execution_count": 15,
   "id": "2be18f67",
   "metadata": {},
   "outputs": [
    {
     "name": "stdout",
     "output_type": "stream",
     "text": [
      "['amit', 'bir', 'cool', 'dolly', 'rafi']\n"
     ]
    }
   ],
   "source": [
    "students.append(\"rafi\")\n",
    "print(students)"
   ]
  },
  {
   "cell_type": "code",
   "execution_count": 16,
   "id": "d71ff078",
   "metadata": {},
   "outputs": [],
   "source": [
    "#want to add kiran to 2nd index?/"
   ]
  },
  {
   "cell_type": "code",
   "execution_count": 17,
   "id": "d0b31251",
   "metadata": {},
   "outputs": [
    {
     "name": "stdout",
     "output_type": "stream",
     "text": [
      "['amit', 'bir', 'kiran', 'cool', 'dolly', 'rafi']\n"
     ]
    }
   ],
   "source": [
    "students.insert(2,'kiran')\n",
    "print(students)"
   ]
  },
  {
   "cell_type": "code",
   "execution_count": 18,
   "id": "732ac6e9",
   "metadata": {},
   "outputs": [
    {
     "name": "stdout",
     "output_type": "stream",
     "text": [
      "['amit', 'namita', 'kiran', 'cool', 'dolly', 'rafi']\n"
     ]
    }
   ],
   "source": [
    "students[1] = 'namita' #modify name of bir to namita\n",
    "print(students)"
   ]
  },
  {
   "cell_type": "code",
   "execution_count": 19,
   "id": "6c00e799",
   "metadata": {},
   "outputs": [
    {
     "name": "stdout",
     "output_type": "stream",
     "text": [
      "['amit', 'namita', 'kiran', 'cool', 'dolly', 'rafi']\n"
     ]
    }
   ],
   "source": [
    "print(students)"
   ]
  },
  {
   "cell_type": "code",
   "execution_count": 20,
   "id": "49bf76c9",
   "metadata": {},
   "outputs": [],
   "source": [
    "del students[2] #delete kiran from the list"
   ]
  },
  {
   "cell_type": "code",
   "execution_count": 21,
   "id": "6adaac49",
   "metadata": {},
   "outputs": [
    {
     "name": "stdout",
     "output_type": "stream",
     "text": [
      "['amit', 'namita', 'cool', 'dolly', 'rafi']\n"
     ]
    }
   ],
   "source": [
    "print(students)"
   ]
  },
  {
   "cell_type": "code",
   "execution_count": null,
   "id": "8491368c",
   "metadata": {},
   "outputs": [],
   "source": []
  }
 ],
 "metadata": {
  "kernelspec": {
   "display_name": "Python 3",
   "language": "python",
   "name": "python3"
  },
  "language_info": {
   "codemirror_mode": {
    "name": "ipython",
    "version": 3
   },
   "file_extension": ".py",
   "mimetype": "text/x-python",
   "name": "python",
   "nbconvert_exporter": "python",
   "pygments_lexer": "ipython3",
   "version": "3.8.8"
  }
 },
 "nbformat": 4,
 "nbformat_minor": 5
}
